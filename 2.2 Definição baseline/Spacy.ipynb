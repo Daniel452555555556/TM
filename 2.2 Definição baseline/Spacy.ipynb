{
 "cells": [
  {
   "cell_type": "markdown",
   "metadata": {},
   "source": [
    "# 2.2 Definição Baseline - Spacy"
   ]
  },
  {
   "cell_type": "markdown",
   "metadata": {},
   "source": [
    "#### Data Loading"
   ]
  },
  {
   "cell_type": "code",
   "execution_count": 2,
   "metadata": {},
   "outputs": [
    {
     "name": "stderr",
     "output_type": "stream",
     "text": [
      "[nltk_data] Downloading package punkt to\n",
      "[nltk_data]     C:\\Users\\vasco\\AppData\\Roaming\\nltk_data...\n",
      "[nltk_data]   Package punkt is already up-to-date!\n",
      "[nltk_data] Downloading package stopwords to\n",
      "[nltk_data]     C:\\Users\\vasco\\AppData\\Roaming\\nltk_data...\n",
      "[nltk_data]   Package stopwords is already up-to-date!\n",
      "[nltk_data] Downloading package wordnet to\n",
      "[nltk_data]     C:\\Users\\vasco\\AppData\\Roaming\\nltk_data...\n",
      "[nltk_data]   Package wordnet is already up-to-date!\n"
     ]
    }
   ],
   "source": [
    "import nltk\n",
    "import csv\n",
    "import pandas as pd\n",
    "import numpy as np\n",
    "from nltk import word_tokenize\n",
    "from nltk.corpus import stopwords\n",
    "from nltk.stem import WordNetLemmatizer\n",
    "nltk.download('punkt')\n",
    "nltk.download('stopwords')\n",
    "nltk.download('wordnet')\n",
    "from collections import Counter\n",
    "import itertools \n",
    "import re"
   ]
  },
  {
   "cell_type": "markdown",
   "metadata": {},
   "source": [
    "Loading dos datasets como dataframes"
   ]
  },
  {
   "cell_type": "code",
   "execution_count": 3,
   "metadata": {},
   "outputs": [
    {
     "name": "stdout",
     "output_type": "stream",
     "text": [
      "                                                text label\n",
      "0  This is your typical cheerful and colorful MGM...   pos\n",
      "1  As a another reviewer states Hanna's War is an...   pos\n",
      "2  One of the best \"Amitabh comeback\" movies I li...   pos\n",
      "3  Peter Sollett has created an endearing portrai...   pos\n",
      "4  The film is not visually stunning in the conve...   pos\n",
      "5  This is not Bela Lagosi's best movie, but it's...   pos\n",
      "6  I happened to watch this movie by chance some ...   pos\n",
      "7  So many consider The Black Cat as the best Kar...   pos\n",
      "8  I saw this at a screening last night too. I wa...   pos\n",
      "9  One of the best true crime movies ever made an...   pos\n",
      "                                                text label\n",
      "0  Logan Lerman & Dean Collins III of Jack & Bobb...   pos\n",
      "1  I have seen this film on a Sunday evening and ...   pos\n",
      "2  Two great stars and a legendary Director creat...   pos\n",
      "3  I'm originally from Brazil... the sad thing ab...   pos\n",
      "4  \"Witchery\" is a decent little Euro Trash horro...   pos\n",
      "5  The best so bad it's good movie ever made. Rud...   pos\n",
      "6  Okay, I'll say it. This movie made me laugh so...   pos\n",
      "7  This movie almost has everything. The action i...   pos\n",
      "8  This movie is ageless and would probably appea...   pos\n",
      "9  Great book, great movie, great soundtrack. Fra...   pos\n"
     ]
    }
   ],
   "source": [
    "train_df = pd.read_csv(\"imdb_reviews_train.csv\", encoding=\"utf-8\")\n",
    "test_df = pd.read_csv(\"imdb_reviews_test.csv\", encoding=\"utf-8\")\n",
    "print(train_df.head(10))\n",
    "print(test_df.head(10))"
   ]
  },
  {
   "cell_type": "markdown",
   "metadata": {},
   "source": [
    "Lowercase"
   ]
  },
  {
   "cell_type": "code",
   "execution_count": 4,
   "metadata": {},
   "outputs": [
    {
     "data": {
      "text/plain": [
       "0        this is your typical cheerful and colorful mgm...\n",
       "1        as a another reviewer states hanna's war is an...\n",
       "2        one of the best \"amitabh comeback\" movies i li...\n",
       "3        peter sollett has created an endearing portrai...\n",
       "4        the film is not visually stunning in the conve...\n",
       "                               ...                        \n",
       "21749    in the third entry of the phantasm series, mik...\n",
       "21750    this movie still chills me to the bone thinkin...\n",
       "21751    is this film a joke? is it a comedy? surely it...\n",
       "21752    all of david prior's movies are terrible on al...\n",
       "21753    this should have been a movie about sam and hi...\n",
       "Name: text, Length: 21754, dtype: object"
      ]
     },
     "execution_count": 4,
     "metadata": {},
     "output_type": "execute_result"
    }
   ],
   "source": [
    "# Converte todas as letras para minúsculas\n",
    "train_lower = train_df['text'].apply(lambda x: x.lower())\n",
    "# mesmo para o conjunto de teste\n",
    "test_lower = test_df['text'].apply(lambda x: x.lower())\n",
    "train_lower"
   ]
  },
  {
   "cell_type": "code",
   "execution_count": 5,
   "metadata": {},
   "outputs": [
    {
     "name": "stdout",
     "output_type": "stream",
     "text": [
      "                                                text label\n",
      "0  this is your typical cheerful and colorful mgm...   pos\n",
      "1  as a another reviewer states hanna's war is an...   pos\n",
      "2  one of the best \"amitabh comeback\" movies i li...   pos\n",
      "3  peter sollett has created an endearing portrai...   pos\n",
      "4  the film is not visually stunning in the conve...   pos\n",
      "                                                text label\n",
      "0  logan lerman & dean collins iii of jack & bobb...   pos\n",
      "1  i have seen this film on a sunday evening and ...   pos\n",
      "2  two great stars and a legendary director creat...   pos\n",
      "3  i'm originally from brazil... the sad thing ab...   pos\n",
      "4  \"witchery\" is a decent little euro trash horro...   pos\n"
     ]
    }
   ],
   "source": [
    "# Para baseline, apenas utlizamos as reviews com lowercase\n",
    "train_lower = pd.DataFrame(train_lower)\n",
    "train_lower['label'] = train_df['label']\n",
    "test_lower = pd.DataFrame(test_lower)\n",
    "test_lower['label'] = test_df['label']\n",
    "print(train_lower.head(5))\n",
    "print(test_lower.head(5))"
   ]
  },
  {
   "cell_type": "markdown",
   "metadata": {},
   "source": [
    "#### Modelo"
   ]
  },
  {
   "cell_type": "markdown",
   "metadata": {},
   "source": [
    "Estrutura do modelo"
   ]
  },
  {
   "cell_type": "code",
   "execution_count": 6,
   "metadata": {},
   "outputs": [],
   "source": [
    "import spacy\n",
    "from spacy.training.example import Example\n",
    "from spacy.util import minibatch, compounding\n",
    "import random"
   ]
  },
  {
   "cell_type": "code",
   "execution_count": 7,
   "metadata": {},
   "outputs": [],
   "source": [
    "train_data = []\n",
    "\n",
    "for i, row in train_lower.iterrows():\n",
    "    label = row['label']\n",
    "\n",
    "    text_str = train_lower['text'][i] \n",
    "    cats = {\"pos\": 1.0 if label == \"pos\" else 0.0,\n",
    "            \"neg\": 1.0 if label == \"neg\" else 0.0}\n",
    "    \n",
    "    train_data.append((text_str, {\"cats\": cats}))\n",
    "\n",
    "# mesmo para o conjunto de teste\n",
    "test_data = []\n",
    "\n",
    "for i, row in test_lower.iterrows():\n",
    "    label = row['label']\n",
    "\n",
    "    text_str = test_lower['text'][i]\n",
    "    cats = {\"pos\": 1.0 if label == \"pos\" else 0.0,\n",
    "            \"neg\": 1.0 if label == \"neg\" else 0.0}\n",
    "    \n",
    "    test_data.append((text_str, {\"cats\": cats}))\n"
   ]
  },
  {
   "cell_type": "code",
   "execution_count": 8,
   "metadata": {},
   "outputs": [
    {
     "data": {
      "text/plain": [
       "[('logan lerman & dean collins iii of jack & bobby fame provide a nice touch of familiarity as friends in this even if not maybe as close as they may be on jack & bobby but the expressions of young students taking their stand for a good cause is very well expressed in this movie.logan lerman may be seemingly typecast in roles of being \"different\" as thusly seen from here as is seen in this as well as in jack and bobby.the movie also opens up with a very nice tune coined as a lost 45 \"and i\\'m wondering where the lions are?\"a song which i\\'d always heard on the speaker @ my old job of christmastreeshops and got it played on my local radio show of the lost45s hosted by barry scott but the last time of which i suggested this with this movie as it\\'s dedication but the dedication was left out.environmentalist demonstration is well expressed in this movie too for the protection of the ground owls as seen in this movie too.what a hoot too this movie is.hoot,sogive a hoot in the tradition of the woodsey owl commercials of the 1970s too. truthfully, stephen \"steve\" g. baer a.k.a.\"ste\".',\n",
       "  {'cats': {'pos': 1.0, 'neg': 0.0}}),\n",
       " (\"i have seen this film on a sunday evening and i must say there is no better way to end the weekend. i am totally pleased with the humor and the warm charm this film offers. it simply leaves me in beautiful mood. watching this film means having a great time and keep a warm feeling. the film offers sharp black british humor and feels very fresh to me. you really enjoy the story and the characters. brenda blethyn is so great. i don't know exactly why. she's too old to be a love interest for me and too young to be my mother. but i really feel comfortable when she shows up in the movie. some may say the story was thin and predictable. but who cares? there simply has to be a happy end, dancing in the sunshine! are the characters stereotypes or cut outs? i don't know  better i don't care! i just loved them and enjoyed watching them. furthermore, i must say that i usually don't like romantic comedies. but this one is outstanding: a black comedy with a heart of gold !!\",\n",
       "  {'cats': {'pos': 1.0, 'neg': 0.0}}),\n",
       " (\"two great stars and a legendary director created a magnificent throbbing love story that is memorable and moving on so many levels. henry king directed jennifer jones in her first hit song of bernadette and he again directs jennifer jones in this film and miss jones is perfect in this role and gives a edgy, beautiful performance that captures the conflict in the character and bill holden who hit home run after home run in the l950's with a series of smash hit films beginning with sunset blvd, stalag 17, born yesterday,country girl, picnic, and of course river kwai is superb in this role.hard to imagine anyone but holden in this movie i loved the ending and cry every time i see it. for anyone who has ever loved and lost, you will understand. for those who haven't, you won't.\",\n",
       "  {'cats': {'pos': 1.0, 'neg': 0.0}}),\n",
       " ('i\\'m originally from brazil... the sad thing about this movie was the exploitation that was done to that boy. they told his life story and he never got one \"centavo\" (brazilian cent) of that movie. fernando is not the first and will not be the last to go through that life style in brazil. sad... but that is the world we live in. it\\'s about making money not saving lives. question is: where is fernando today? most probably... dead. we tend to want to live in this \"disney filled fantasy bubbled life\". when someone comes up to the plate to help... along comes the higher power and says: \"what do i get from this? where\\'s my cut?\"   i wish people\\'s conscience would speak up!',\n",
       "  {'cats': {'pos': 1.0, 'neg': 0.0}}),\n",
       " ('\"witchery\" is a decent little euro trash horror yarn! david hasselhoff is pretty damn funny in this one and sadly, he\\'s one of the better actors. linda blair is downright terrible and the lady who plays hoff\\'s wife...she is hilariously bad! the plot of this film is ridiculous too. it\\'s got some holes, which you can\\'t help but notice, but it remains entertaining throughout. the gore in \"witchery\" is freaking outstanding. i loved the part where the old bag gets \"sucked\" into the trash chute and ends up in the chimney to roast! and the part where the lady \"gets taken advantage of\" by the devil was pretty damned disturbing. i\\'d say this one is a must for gorehounds. if you\\'re looking for an overproduced, well acted flick, look elsewhere. but if you like old school style italian sleaze and over the top gore, \"witchery\" belongs on your shelf. i\\'m surprised by the low rating on here! what were you people expecting, \"the exorcist?\" 7 out of 10, kids.',\n",
       "  {'cats': {'pos': 1.0, 'neg': 0.0}})]"
      ]
     },
     "execution_count": 8,
     "metadata": {},
     "output_type": "execute_result"
    }
   ],
   "source": [
    "train_data[:5]\n",
    "test_data[:5]"
   ]
  },
  {
   "cell_type": "code",
   "execution_count": 9,
   "metadata": {},
   "outputs": [
    {
     "data": {
      "text/plain": [
       "1"
      ]
     },
     "execution_count": 9,
     "metadata": {},
     "output_type": "execute_result"
    }
   ],
   "source": [
    "# Criar pipeline vazia\n",
    "nlp = spacy.blank(\"en\")\n",
    "\n",
    "# Adicionar TextCategorizer\n",
    "text_cat = nlp.add_pipe(\"textcat\", last=True)\n",
    "\n",
    "# Adicionar rótulos\n",
    "text_cat.add_label(\"pos\")\n",
    "text_cat.add_label(\"neg\")"
   ]
  },
  {
   "cell_type": "code",
   "execution_count": 10,
   "metadata": {},
   "outputs": [
    {
     "name": "stdout",
     "output_type": "stream",
     "text": [
      "Losses at iteration 0: {'textcat': 81.19954097270966}\n",
      "Losses at iteration 1: {'textcat': 43.25742203684058}\n",
      "Losses at iteration 2: {'textcat': 27.635289256766555}\n",
      "Losses at iteration 3: {'textcat': 18.333641452120673}\n",
      "Losses at iteration 4: {'textcat': 15.048235317903277}\n",
      "Losses at iteration 5: {'textcat': 12.46089319800933}\n",
      "Losses at iteration 6: {'textcat': 8.611073204734453}\n",
      "Losses at iteration 7: {'textcat': 8.67750237109341}\n",
      "Losses at iteration 8: {'textcat': 7.0658405864940175}\n",
      "Losses at iteration 9: {'textcat': 5.347726264852545}\n"
     ]
    }
   ],
   "source": [
    "# optimizador inicial dos pesos\n",
    "optimizer = nlp.begin_training()\n",
    "\n",
    "for i in range(10):  # número de épocas\n",
    "    random.shuffle(train_data) # shuffle dos dados de treino\n",
    "    losses = {}\n",
    "    batches = minibatch(train_data, size=compounding(4.0, 32.0, 1.5)) # tamanho dos batches, começa em 4 e aumenta até 32 (aumenta 1.5x a cada iteração)\n",
    "    for batch in batches:\n",
    "        examples = []\n",
    "        for text, annotations in batch:\n",
    "            doc = nlp.make_doc(text) # doc cria uam representação do texto que vai permitir para treino (lemmatização, POS, ...)\n",
    "            examples.append(Example.from_dict(doc, annotations)) # cria um exemplo a partir do doc e das labels\n",
    "        nlp.update(examples, sgd=optimizer, losses=losses) # o verdadeiro treino, atualiza os pesos do modelo\n",
    "    print(f\"Losses at iteration {i}: {losses}\")\n"
   ]
  },
  {
   "cell_type": "code",
   "execution_count": 11,
   "metadata": {},
   "outputs": [
    {
     "data": {
      "text/plain": [
       "{'pos': 0.9998726844787598, 'neg': 0.00012734527990687639}"
      ]
     },
     "execution_count": 11,
     "metadata": {},
     "output_type": "execute_result"
    }
   ],
   "source": [
    "doc = nlp(test_data[0][0]) # exemplo\n",
    "doc.cats  # Probabilidades para cada categoria (neg e pos) do texto"
   ]
  },
  {
   "cell_type": "markdown",
   "metadata": {},
   "source": [
    "Resultados"
   ]
  },
  {
   "cell_type": "code",
   "execution_count": 12,
   "metadata": {},
   "outputs": [
    {
     "data": {
      "image/png": "[encoded data removed]",
      "text/plain": [
       "<Figure size 640x480 with 2 Axes>"
      ]
     },
     "metadata": {},
     "output_type": "display_data"
    },
    {
     "name": "stdout",
     "output_type": "stream",
     "text": [
      "              precision    recall  f1-score   support\n",
      "\n",
      "         pos       0.93      0.83      0.87     11050\n",
      "         neg       0.84      0.94      0.89     10946\n",
      "\n",
      "    accuracy                           0.88     21996\n",
      "   macro avg       0.89      0.88      0.88     21996\n",
      "weighted avg       0.89      0.88      0.88     21996\n",
      "\n"
     ]
    }
   ],
   "source": [
    "from sklearn.metrics import confusion_matrix, classification_report\n",
    "import matplotlib.pyplot as plt\n",
    "import seaborn as sns\n",
    "\n",
    "true_labels = []\n",
    "predicted_labels = []\n",
    "\n",
    "# Iterate over each example in the test_data\n",
    "for text, annotations in test_data:\n",
    "    doc = nlp(text)  # Process the text with spaCy model\n",
    "\n",
    "    # Ensure there is a valid output in doc.cats\n",
    "    if not doc.cats:\n",
    "        print(f\"Empty prediction for text: {text}\")\n",
    "        continue # Skip if no prediction was made\n",
    "\n",
    "    # Get the predicted category (label) with the highest probability\n",
    "    predicted = max(doc.cats, key=doc.cats.get)\n",
    "    # Determine the true label from annotations\n",
    "    actual = \"pos\" if annotations[\"cats\"][\"pos\"] > annotations[\"cats\"][\"neg\"] else \"neg\"\n",
    "\n",
    "    predicted_labels.append(predicted)\n",
    "    true_labels.append(actual)\n",
    "\n",
    "# Matriz de confusão\n",
    "cm = confusion_matrix(true_labels, predicted_labels, labels=[\"pos\", \"neg\"])\n",
    "\n",
    "# Mostrar matriz com seaborn\n",
    "sns.heatmap(cm, annot=True, fmt=\"d\", xticklabels=[\"pos\", \"neg\"], yticklabels=[\"pos\", \"neg\"], cmap=\"Oranges\")\n",
    "plt.xlabel(\"Previsto\")\n",
    "plt.ylabel(\"Real\")\n",
    "plt.title(\"Matriz de Confusão\")\n",
    "plt.show()\n",
    "\n",
    "# Também podes imprimir relatório completo:\n",
    "print(classification_report(true_labels, predicted_labels, target_names=[\"pos\", \"neg\"]))\n"
   ]
  }
 ],
 "metadata": {
  "kernelspec": {
   "display_name": "base",
   "language": "python",
   "name": "python3"
  },
  "language_info": {
   "codemirror_mode": {
    "name": "ipython",
    "version": 3
   },
   "file_extension": ".py",
   "mimetype": "text/x-python",
   "name": "python",
   "nbconvert_exporter": "python",
   "pygments_lexer": "ipython3",
   "version": "3.12.4"
  }
 },
 "nbformat": 4,
 "nbformat_minor": 2
}
