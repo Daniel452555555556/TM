{
 "cells": [
  {
   "cell_type": "markdown",
   "metadata": {},
   "source": [
    "# 2.2 Definição Baseline - Spacy"
   ]
  },
  {
   "cell_type": "code",
   "execution_count": 1,
   "metadata": {},
   "outputs": [
    {
     "name": "stderr",
     "output_type": "stream",
     "text": [
      "[nltk_data] Downloading package punkt to\n",
      "[nltk_data]     C:\\Users\\vasco\\AppData\\Roaming\\nltk_data...\n",
      "[nltk_data]   Package punkt is already up-to-date!\n",
      "[nltk_data] Downloading package stopwords to\n",
      "[nltk_data]     C:\\Users\\vasco\\AppData\\Roaming\\nltk_data...\n",
      "[nltk_data]   Package stopwords is already up-to-date!\n",
      "[nltk_data] Downloading package wordnet to\n",
      "[nltk_data]     C:\\Users\\vasco\\AppData\\Roaming\\nltk_data...\n",
      "[nltk_data]   Package wordnet is already up-to-date!\n"
     ]
    }
   ],
   "source": [
    "import nltk\n",
    "import csv\n",
    "import pandas as pd\n",
    "import numpy as np\n",
    "from nltk import word_tokenize\n",
    "from nltk.corpus import stopwords\n",
    "from nltk.stem import WordNetLemmatizer\n",
    "nltk.download('punkt')\n",
    "nltk.download('stopwords')\n",
    "nltk.download('wordnet')\n",
    "from collections import Counter\n",
    "import itertools \n",
    "import re"
   ]
  },
  {
   "cell_type": "markdown",
   "metadata": {},
   "source": [
    "Loading dos datasets como dataframes"
   ]
  },
  {
   "cell_type": "code",
   "execution_count": 3,
   "metadata": {},
   "outputs": [
    {
     "name": "stdout",
     "output_type": "stream",
     "text": [
      "                                                text label\n",
      "0  ['typical', 'cheerful', 'colorful', 'mgm', 'mu...   pos\n",
      "1  ['another', 'reviewer', 'states', 'hanna', 'wa...   pos\n",
      "2  ['one', 'best', 'amitabh', 'comeback', 'movies...   pos\n",
      "3  ['peter', 'sollett', 'created', 'endearing', '...   pos\n",
      "4  ['film', 'NOT_visually', 'NOT_stunning', 'NOT_...   pos\n",
      "5  ['NOT_bela', 'NOT_lagosi', 'NOT_best', 'NOT_mo...   pos\n",
      "6  ['happened', 'watch', 'movie', 'chance', 'days...   pos\n",
      "7  ['many', 'consider', 'black', 'cat', 'best', '...   pos\n",
      "8  ['saw', 'screening', 'last', 'night', 'totally...   pos\n",
      "9  ['one', 'best', 'true', 'crime', 'movies', 'ev...   pos\n",
      "                                                text label\n",
      "0  ['logan', 'lerman', 'dean', 'collins', 'iii', ...   pos\n",
      "1  ['seen', 'film', 'sunday', 'evening', 'must', ...   pos\n",
      "2  ['two', 'great', 'stars', 'legendary', 'direct...   pos\n",
      "3  ['originally', 'brazil', 'sad', 'thing', 'movi...   pos\n",
      "4  ['witchery', 'decent', 'little', 'euro', 'tras...   pos\n",
      "5  ['best', 'bad', 'good', 'movie', 'ever', 'made...   pos\n",
      "6  ['okay', 'say', 'movie', 'made', 'laugh', 'har...   pos\n",
      "7  ['movie', 'almost', 'everything', 'action', 'c...   pos\n",
      "8  ['movie', 'ageless', 'would', 'probably', 'app...   pos\n",
      "9  ['great', 'book', 'great', 'movie', 'great', '...   pos\n"
     ]
    }
   ],
   "source": [
    "train_clean = pd.read_csv(\"train_clean.csv\", encoding=\"utf-8\")\n",
    "test_clean = pd.read_csv(\"test_clean.csv\", encoding=\"utf-8\")\n",
    "print(train_clean.head(10))\n",
    "print(test_clean.head(10))"
   ]
  },
  {
   "cell_type": "code",
   "execution_count": 4,
   "metadata": {},
   "outputs": [],
   "source": [
    "import spacy\n",
    "from spacy.training.example import Example\n",
    "from spacy.util import minibatch, compounding\n",
    "import random"
   ]
  },
  {
   "cell_type": "code",
   "execution_count": 100,
   "metadata": {},
   "outputs": [],
   "source": [
    "train_data = []\n",
    "\n",
    "for i, row in train_clean.iterrows():\n",
    "    tokens = row['text']\n",
    "    label = row['label']\n",
    "\n",
    "    text_str = \" \".join(tokens)  # junta os tokens de novo num texto\n",
    "    cats = {\"pos\": 1.0 if label == \"pos\" else 0.0,\n",
    "            \"neg\": 1.0 if label == \"neg\" else 0.0}\n",
    "    \n",
    "    train_data.append((text_str, {\"cats\": cats}))\n",
    "\n",
    "# mesmo para o conjunto de teste\n",
    "test_data = []\n",
    "\n",
    "for i, row in test_clean.iterrows():\n",
    "    tokens = row['text']\n",
    "    label = row['label']\n",
    "\n",
    "    text_str = \" \".join(tokens)  # junta os tokens de novo num texto\n",
    "    cats = {\"pos\": 1.0 if label == \"pos\" else 0.0,\n",
    "            \"neg\": 1.0 if label == \"neg\" else 0.0}\n",
    "    \n",
    "    test_data.append((text_str, {\"cats\": cats}))\n"
   ]
  },
  {
   "cell_type": "code",
   "execution_count": 196,
   "metadata": {},
   "outputs": [
    {
     "data": {
      "text/plain": [
       "[('logan lerman dean collins iii jack bobby fame provide nice touch familiarity friends even NOT_maybe NOT_close NOT_may NOT_jack NOT_bobby NOT_expressions NOT_young NOT_students NOT_taking NOT_stand NOT_good NOT_cause NOT_well NOT_expressed NOT_movie.logan NOT_lerman NOT_may NOT_seemingly NOT_typecast NOT_roles NOT_different NOT_thusly NOT_seen NOT_seen NOT_well NOT_jack NOT_bobby.the NOT_movie NOT_also NOT_opens NOT_nice NOT_tune NOT_coined NOT_lost NOT_45 NOT_wondering NOT_lions song always heard speaker old job christmastreeshops got played local radio show lost45s hosted barry scott last time suggested movie dedication dedication left out.environmentalist demonstration well expressed movie protection ground owls seen movie too.what hoot movie is.hoot sogive hoot tradition woodsey owl commercials 1970s truthfully stephen steve g. baer a.k.a ste',\n",
       "  {'cats': {'pos': 1.0, 'neg': 0.0}}),\n",
       " ('seen film sunday evening must say NOT_better NOT_way NOT_end NOT_weekend totally pleased humor warm charm film offers simply leaves beautiful mood watching film means great time keep warm feeling film offers sharp black british humor feels fresh really enjoy story characters brenda blethyn great NOT_know NOT_exactly old love interest young mother really feel comfortable shows movie may say story thin predictable cares simply happy end dancing sunshine characters stereotypes cut outs NOT_know NOT_better NOT_care loved enjoyed watching furthermore must say usually NOT_like NOT_romantic NOT_comedies one outstanding black comedy heart gold',\n",
       "  {'cats': {'pos': 1.0, 'neg': 0.0}}),\n",
       " ('two great stars legendary director created magnificent throbbing love story memorable moving many levels henry king directed jennifer jones first hit song bernadette directs jennifer jones film miss jones perfect role gives edgy beautiful performance captures conflict character bill holden hit home run home run l950 series smash hit films beginning sunset blvd stalag 17 born yesterday country girl picnic course river kwai superb role.hard imagine anyone holden movie loved ending cry every time see anyone ever loved lost understand NOT_wo',\n",
       "  {'cats': {'pos': 1.0, 'neg': 0.0}}),\n",
       " ('originally brazil sad thing movie exploitation done boy told life story never NOT_got NOT_one NOT_centavo NOT_brazilian NOT_cent NOT_movie fernando NOT_first NOT_last NOT_go NOT_life NOT_style NOT_brazil sad world live making money NOT_saving NOT_lives question fernando today probably dead tend want live disney filled fantasy bubbled life someone comes plate help along comes higher power says get cut wish people conscience would speak',\n",
       "  {'cats': {'pos': 1.0, 'neg': 0.0}}),\n",
       " ('witchery decent little euro trash horror yarn david hasselhoff pretty damn funny one sadly one better actors linda blair downright terrible lady plays hoff wife hilariously bad plot film ridiculous got holes ca NOT_help NOT_notice NOT_remains NOT_entertaining NOT_throughout gore witchery freaking outstanding loved part old bag gets sucked trash chute ends chimney roast part lady gets taken advantage devil pretty damned disturbing say one must gorehounds looking overproduced well acted flick look elsewhere like old school style italian sleaze top gore witchery belongs shelf surprised low rating people expecting exorcist 7 10 kids',\n",
       "  {'cats': {'pos': 1.0, 'neg': 0.0}})]"
      ]
     },
     "execution_count": 196,
     "metadata": {},
     "output_type": "execute_result"
    }
   ],
   "source": [
    "train_data[:5]\n",
    "test_data[:5]"
   ]
  },
  {
   "cell_type": "code",
   "execution_count": null,
   "metadata": {},
   "outputs": [],
   "source": [
    "# Criar pipeline vazia\n",
    "nlp = spacy.blank(\"en\")\n",
    "\n",
    "# Adicionar TextCategorizer\n",
    "text_cat = nlp.add_pipe(\"textcat\", last=True)\n",
    "\n",
    "# Adicionar rótulos\n",
    "text_cat.add_label(\"pos\")\n",
    "text_cat.add_label(\"neg\")"
   ]
  },
  {
   "cell_type": "code",
   "execution_count": null,
   "metadata": {},
   "outputs": [
    {
     "name": "stdout",
     "output_type": "stream",
     "text": [
      "Losses at iteration 0: {'textcat': 82.03230953961611}\n",
      "Losses at iteration 1: {'textcat': 41.86142583144829}\n",
      "Losses at iteration 2: {'textcat': 23.04762077740179}\n",
      "Losses at iteration 3: {'textcat': 16.25845363972485}\n",
      "Losses at iteration 4: {'textcat': 12.666018653772142}\n",
      "Losses at iteration 5: {'textcat': 10.299658231940711}\n",
      "Losses at iteration 6: {'textcat': 7.711229378287992}\n",
      "Losses at iteration 7: {'textcat': 7.023197181740998}\n",
      "Losses at iteration 8: {'textcat': 6.722470275472285}\n",
      "Losses at iteration 9: {'textcat': 5.816801186507102}\n"
     ]
    }
   ],
   "source": [
    "# Treinamento (+- 15 min)\n",
    "# optimizador inicial dos pesos\n",
    "optimizer = nlp.begin_training()\n",
    "\n",
    "for i in range(10):  # número de épocas\n",
    "    random.shuffle(train_data) # shuffle dos dados de treino\n",
    "    losses = {}\n",
    "    batches = minibatch(train_data, size=compounding(4.0, 32.0, 1.5)) # tamanho dos batches, começa em 4 e aumenta até 32 (aumenta 1.5x a cada iteração)\n",
    "    for batch in batches:\n",
    "        examples = []\n",
    "        for text, annotations in batch:\n",
    "            doc = nlp.make_doc(text) # doc cria uam representação do texto que vai permitir para treino (lemmatização, POS, ...)\n",
    "            examples.append(Example.from_dict(doc, annotations)) # cria um exemplo a partir do doc e das labels\n",
    "        nlp.update(examples, sgd=optimizer, losses=losses) # o verdadeiro treino, atualiza os pesos do modelo\n",
    "    print(f\"Losses at iteration {i}: {losses}\")\n"
   ]
  },
  {
   "cell_type": "code",
   "execution_count": 189,
   "metadata": {},
   "outputs": [
    {
     "data": {
      "text/plain": [
       "{'pos': 0.8321468830108643, 'neg': 0.16785314679145813}"
      ]
     },
     "execution_count": 189,
     "metadata": {},
     "output_type": "execute_result"
    }
   ],
   "source": [
    "doc = nlp(test_data[0][0]) # exemplo\n",
    "doc.cats  # Probabilidades para cada categoria (neg e pos) do texto"
   ]
  },
  {
   "cell_type": "code",
   "execution_count": 200,
   "metadata": {},
   "outputs": [
    {
     "data": {
      "image/png": "[encoded data removed]",
      "text/plain": [
       "<Figure size 640x480 with 2 Axes>"
      ]
     },
     "metadata": {},
     "output_type": "display_data"
    },
    {
     "name": "stdout",
     "output_type": "stream",
     "text": [
      "              precision    recall  f1-score   support\n",
      "\n",
      "         pos       0.86      0.89      0.87     11050\n",
      "         neg       0.88      0.86      0.87     10946\n",
      "\n",
      "    accuracy                           0.87     21996\n",
      "   macro avg       0.87      0.87      0.87     21996\n",
      "weighted avg       0.87      0.87      0.87     21996\n",
      "\n"
     ]
    }
   ],
   "source": [
    "from sklearn.metrics import confusion_matrix, classification_report\n",
    "import matplotlib.pyplot as plt\n",
    "import seaborn as sns\n",
    "\n",
    "true_labels = []\n",
    "predicted_labels = []\n",
    "\n",
    "# Iterate over each example in the test_data\n",
    "for text, annotations in test_data:\n",
    "    doc = nlp(text)  # Process the text with spaCy model\n",
    "\n",
    "    # Ensure there is a valid output in doc.cats\n",
    "    if not doc.cats:\n",
    "        print(f\"Empty prediction for text: {text}\")\n",
    "        continue # Skip if no prediction was made\n",
    "\n",
    "    # Get the predicted category (label) with the highest probability\n",
    "    predicted = max(doc.cats, key=doc.cats.get)\n",
    "    # Determine the true label from annotations\n",
    "    actual = \"pos\" if annotations[\"cats\"][\"pos\"] > annotations[\"cats\"][\"neg\"] else \"neg\"\n",
    "\n",
    "    predicted_labels.append(predicted)\n",
    "    true_labels.append(actual)\n",
    "\n",
    "# Matriz de confusão\n",
    "cm = confusion_matrix(true_labels, predicted_labels, labels=[\"pos\", \"neg\"])\n",
    "\n",
    "# Mostrar matriz com seaborn\n",
    "sns.heatmap(cm, annot=True, fmt=\"d\", xticklabels=[\"pos\", \"neg\"], yticklabels=[\"pos\", \"neg\"], cmap=\"Oranges\")\n",
    "plt.xlabel(\"Previsto\")\n",
    "plt.ylabel(\"Real\")\n",
    "plt.title(\"Matriz de Confusão\")\n",
    "plt.show()\n",
    "\n",
    "# Também podes imprimir relatório completo:\n",
    "print(classification_report(true_labels, predicted_labels, target_names=[\"pos\", \"neg\"]))\n"
   ]
  }
 ],
 "metadata": {
  "kernelspec": {
   "display_name": "base",
   "language": "python",
   "name": "python3"
  },
  "language_info": {
   "codemirror_mode": {
    "name": "ipython",
    "version": 3
   },
   "file_extension": ".py",
   "mimetype": "text/x-python",
   "name": "python",
   "nbconvert_exporter": "python",
   "pygments_lexer": "ipython3",
   "version": "3.12.4"
  }
 },
 "nbformat": 4,
 "nbformat_minor": 2
}
