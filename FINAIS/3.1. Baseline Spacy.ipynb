{
  "cells": [
    {
      "cell_type": "markdown",
      "metadata": {
        "id": "J5zgS1sahR4J"
      },
      "source": [
        "# 3.1 Baseline - Spacy"
      ]
    },
    {
      "cell_type": "markdown",
      "metadata": {
        "id": "Zrb4VlL8hR4K"
      },
      "source": [
        "#### Data Loading e Pré-processamento"
      ]
    },
    {
      "cell_type": "code",
      "execution_count": 2,
      "metadata": {
        "colab": {
          "base_uri": "https://localhost:8080/"
        },
        "id": "_Ok10Dj7hR4K",
        "outputId": "f5d87004-b14e-4a93-f510-c0e11839a38c"
      },
      "outputs": [
        {
          "output_type": "stream",
          "name": "stderr",
          "text": [
            "[nltk_data] Downloading package punkt to /root/nltk_data...\n",
            "[nltk_data]   Package punkt is already up-to-date!\n",
            "[nltk_data] Downloading package stopwords to /root/nltk_data...\n",
            "[nltk_data]   Package stopwords is already up-to-date!\n",
            "[nltk_data] Downloading package wordnet to /root/nltk_data...\n",
            "[nltk_data]   Package wordnet is already up-to-date!\n"
          ]
        }
      ],
      "source": [
        "import nltk\n",
        "import csv\n",
        "import pandas as pd\n",
        "import numpy as np\n",
        "from nltk import word_tokenize\n",
        "from nltk.corpus import stopwords\n",
        "from nltk.stem import WordNetLemmatizer\n",
        "nltk.download('punkt')\n",
        "nltk.download('stopwords')\n",
        "nltk.download('wordnet')\n",
        "from collections import Counter\n",
        "import itertools\n",
        "import re"
      ]
    },
    {
      "cell_type": "markdown",
      "metadata": {
        "id": "Z0c7QIrbhR4L"
      },
      "source": [
        "Loading dos datasets como dataframes"
      ]
    },
    {
      "cell_type": "code",
      "execution_count": 5,
      "metadata": {
        "colab": {
          "base_uri": "https://localhost:8080/"
        },
        "id": "_AWJBuc4hR4M",
        "outputId": "d58ecd3e-a12b-424e-fb5d-3d5864c855c2"
      },
      "outputs": [
        {
          "output_type": "stream",
          "name": "stdout",
          "text": [
            "                                                text label\n",
            "0  This is your typical cheerful and colorful MGM...   pos\n",
            "1  As a another reviewer states Hanna's War is an...   pos\n",
            "2  One of the best \"Amitabh comeback\" movies I li...   pos\n",
            "3  Peter Sollett has created an endearing portrai...   pos\n",
            "4  The film is not visually stunning in the conve...   pos\n",
            "5  This is not Bela Lagosi's best movie, but it's...   pos\n",
            "6  I happened to watch this movie by chance some ...   pos\n",
            "7  So many consider The Black Cat as the best Kar...   pos\n",
            "8  I saw this at a screening last night too. I wa...   pos\n",
            "9  One of the best true crime movies ever made an...   pos\n",
            "                                                text label\n",
            "0  Logan Lerman & Dean Collins III of Jack & Bobb...   pos\n",
            "1  I have seen this film on a Sunday evening and ...   pos\n",
            "2  Two great stars and a legendary Director creat...   pos\n",
            "3  I'm originally from Brazil... the sad thing ab...   pos\n",
            "4  \"Witchery\" is a decent little Euro Trash horro...   pos\n",
            "5  The best so bad it's good movie ever made. Rud...   pos\n",
            "6  Okay, I'll say it. This movie made me laugh so...   pos\n",
            "7  This movie almost has everything. The action i...   pos\n",
            "8  This movie is ageless and would probably appea...   pos\n",
            "9  Great book, great movie, great soundtrack. Fra...   pos\n"
          ]
        }
      ],
      "source": [
        "train_df = pd.read_csv(\"imdb_reviews_train.csv\", encoding=\"utf-8\")\n",
        "test_df = pd.read_csv(\"imdb_reviews_test.csv\", encoding=\"utf-8\")\n",
        "print(train_df.head(10))\n",
        "print(test_df.head(10))"
      ]
    },
    {
      "cell_type": "markdown",
      "metadata": {
        "id": "TAv5SCQ2hR4M"
      },
      "source": [
        "Lowercase"
      ]
    },
    {
      "cell_type": "code",
      "execution_count": 6,
      "metadata": {
        "colab": {
          "base_uri": "https://localhost:8080/",
          "height": 458
        },
        "id": "Gwyf-mFAhR4M",
        "outputId": "57b05f26-69b2-49d3-c62b-7261c01bac79"
      },
      "outputs": [
        {
          "output_type": "execute_result",
          "data": {
            "text/plain": [
              "0        this is your typical cheerful and colorful mgm...\n",
              "1        as a another reviewer states hanna's war is an...\n",
              "2        one of the best \"amitabh comeback\" movies i li...\n",
              "3        peter sollett has created an endearing portrai...\n",
              "4        the film is not visually stunning in the conve...\n",
              "                               ...                        \n",
              "21749    in the third entry of the phantasm series, mik...\n",
              "21750    this movie still chills me to the bone thinkin...\n",
              "21751    is this film a joke? is it a comedy? surely it...\n",
              "21752    all of david prior's movies are terrible on al...\n",
              "21753    this should have been a movie about sam and hi...\n",
              "Name: text, Length: 21754, dtype: object"
            ],
            "text/html": [
              "<div>\n",
              "<style scoped>\n",
              "    .dataframe tbody tr th:only-of-type {\n",
              "        vertical-align: middle;\n",
              "    }\n",
              "\n",
              "    .dataframe tbody tr th {\n",
              "        vertical-align: top;\n",
              "    }\n",
              "\n",
              "    .dataframe thead th {\n",
              "        text-align: right;\n",
              "    }\n",
              "</style>\n",
              "<table border=\"1\" class=\"dataframe\">\n",
              "  <thead>\n",
              "    <tr style=\"text-align: right;\">\n",
              "      <th></th>\n",
              "      <th>text</th>\n",
              "    </tr>\n",
              "  </thead>\n",
              "  <tbody>\n",
              "    <tr>\n",
              "      <th>0</th>\n",
              "      <td>this is your typical cheerful and colorful mgm...</td>\n",
              "    </tr>\n",
              "    <tr>\n",
              "      <th>1</th>\n",
              "      <td>as a another reviewer states hanna's war is an...</td>\n",
              "    </tr>\n",
              "    <tr>\n",
              "      <th>2</th>\n",
              "      <td>one of the best \"amitabh comeback\" movies i li...</td>\n",
              "    </tr>\n",
              "    <tr>\n",
              "      <th>3</th>\n",
              "      <td>peter sollett has created an endearing portrai...</td>\n",
              "    </tr>\n",
              "    <tr>\n",
              "      <th>4</th>\n",
              "      <td>the film is not visually stunning in the conve...</td>\n",
              "    </tr>\n",
              "    <tr>\n",
              "      <th>...</th>\n",
              "      <td>...</td>\n",
              "    </tr>\n",
              "    <tr>\n",
              "      <th>21749</th>\n",
              "      <td>in the third entry of the phantasm series, mik...</td>\n",
              "    </tr>\n",
              "    <tr>\n",
              "      <th>21750</th>\n",
              "      <td>this movie still chills me to the bone thinkin...</td>\n",
              "    </tr>\n",
              "    <tr>\n",
              "      <th>21751</th>\n",
              "      <td>is this film a joke? is it a comedy? surely it...</td>\n",
              "    </tr>\n",
              "    <tr>\n",
              "      <th>21752</th>\n",
              "      <td>all of david prior's movies are terrible on al...</td>\n",
              "    </tr>\n",
              "    <tr>\n",
              "      <th>21753</th>\n",
              "      <td>this should have been a movie about sam and hi...</td>\n",
              "    </tr>\n",
              "  </tbody>\n",
              "</table>\n",
              "<p>21754 rows × 1 columns</p>\n",
              "</div><br><label><b>dtype:</b> object</label>"
            ]
          },
          "metadata": {},
          "execution_count": 6
        }
      ],
      "source": [
        "# Converte todas as letras para minúsculas\n",
        "train_lower = train_df['text'].apply(lambda x: x.lower())\n",
        "# mesmo para o conjunto de teste\n",
        "test_lower = test_df['text'].apply(lambda x: x.lower())\n",
        "train_lower"
      ]
    },
    {
      "cell_type": "code",
      "execution_count": 7,
      "metadata": {
        "colab": {
          "base_uri": "https://localhost:8080/"
        },
        "id": "GKnU148dhR4N",
        "outputId": "e8d9d3ab-b113-42bb-b882-60de3557ab8d"
      },
      "outputs": [
        {
          "output_type": "stream",
          "name": "stdout",
          "text": [
            "                                                text label\n",
            "0  this is your typical cheerful and colorful mgm...   pos\n",
            "1  as a another reviewer states hanna's war is an...   pos\n",
            "2  one of the best \"amitabh comeback\" movies i li...   pos\n",
            "3  peter sollett has created an endearing portrai...   pos\n",
            "4  the film is not visually stunning in the conve...   pos\n",
            "                                                text label\n",
            "0  logan lerman & dean collins iii of jack & bobb...   pos\n",
            "1  i have seen this film on a sunday evening and ...   pos\n",
            "2  two great stars and a legendary director creat...   pos\n",
            "3  i'm originally from brazil... the sad thing ab...   pos\n",
            "4  \"witchery\" is a decent little euro trash horro...   pos\n"
          ]
        }
      ],
      "source": [
        "# Para baseline, apenas utlizamos as reviews com lowercase\n",
        "train_lower = pd.DataFrame(train_lower)\n",
        "train_lower['label'] = train_df['label']\n",
        "test_lower = pd.DataFrame(test_lower)\n",
        "test_lower['label'] = test_df['label']\n",
        "print(train_lower.head(5))\n",
        "print(test_lower.head(5))"
      ]
    },
    {
      "cell_type": "markdown",
      "metadata": {
        "id": "8xcGwmRxhR4N"
      },
      "source": [
        "#### Modelo"
      ]
    },
    {
      "cell_type": "markdown",
      "metadata": {
        "id": "DSnRU4uChR4N"
      },
      "source": [
        "Estrutura do modelo"
      ]
    },
    {
      "cell_type": "code",
      "execution_count": 8,
      "metadata": {
        "id": "OLzM-zWAhR4N"
      },
      "outputs": [],
      "source": [
        "import spacy\n",
        "from spacy.training.example import Example\n",
        "from spacy.util import minibatch, compounding\n",
        "import random"
      ]
    },
    {
      "cell_type": "code",
      "execution_count": 9,
      "metadata": {
        "id": "ZDH_w-0AhR4N"
      },
      "outputs": [],
      "source": [
        "train_data = []\n",
        "\n",
        "for i, row in train_lower.iterrows():\n",
        "    label = row['label']\n",
        "\n",
        "    text_str = train_lower['text'][i]\n",
        "    cats = {\"pos\": 1.0 if label == \"pos\" else 0.0,\n",
        "            \"neg\": 1.0 if label == \"neg\" else 0.0}\n",
        "\n",
        "    train_data.append((text_str, {\"cats\": cats}))\n",
        "\n",
        "# mesmo para o conjunto de teste\n",
        "test_data = []\n",
        "\n",
        "for i, row in test_lower.iterrows():\n",
        "    label = row['label']\n",
        "\n",
        "    text_str = test_lower['text'][i]\n",
        "    cats = {\"pos\": 1.0 if label == \"pos\" else 0.0,\n",
        "            \"neg\": 1.0 if label == \"neg\" else 0.0}\n",
        "\n",
        "    test_data.append((text_str, {\"cats\": cats}))\n"
      ]
    },
    {
      "cell_type": "code",
      "execution_count": 10,
      "metadata": {
        "colab": {
          "base_uri": "https://localhost:8080/"
        },
        "id": "mVJbRRqghR4O",
        "outputId": "92b37431-24dc-4670-e03c-14a5195340dd"
      },
      "outputs": [
        {
          "output_type": "execute_result",
          "data": {
            "text/plain": [
              "[('logan lerman & dean collins iii of jack & bobby fame provide a nice touch of familiarity as friends in this even if not maybe as close as they may be on jack & bobby but the expressions of young students taking their stand for a good cause is very well expressed in this movie.logan lerman may be seemingly typecast in roles of being \"different\" as thusly seen from here as is seen in this as well as in jack and bobby.the movie also opens up with a very nice tune coined as a lost 45 \"and i\\'m wondering where the lions are?\"a song which i\\'d always heard on the speaker @ my old job of christmastreeshops and got it played on my local radio show of the lost45s hosted by barry scott but the last time of which i suggested this with this movie as it\\'s dedication but the dedication was left out.environmentalist demonstration is well expressed in this movie too for the protection of the ground owls as seen in this movie too.what a hoot too this movie is.hoot,sogive a hoot in the tradition of the woodsey owl commercials of the 1970s too. truthfully, stephen \"steve\" g. baer a.k.a.\"ste\".',\n",
              "  {'cats': {'pos': 1.0, 'neg': 0.0}}),\n",
              " (\"i have seen this film on a sunday evening and i must say there is no better way to end the weekend. i am totally pleased with the humor and the warm charm this film offers. it simply leaves me in beautiful mood. watching this film means having a great time and keep a warm feeling. the film offers sharp black british humor and feels very fresh to me. you really enjoy the story and the characters. brenda blethyn is so great. i don't know exactly why. she's too old to be a love interest for me and too young to be my mother. but i really feel comfortable when she shows up in the movie. some may say the story was thin and predictable. but who cares? there simply has to be a happy end, dancing in the sunshine! are the characters stereotypes or cut outs? i don't know  better i don't care! i just loved them and enjoyed watching them. furthermore, i must say that i usually don't like romantic comedies. but this one is outstanding: a black comedy with a heart of gold !!\",\n",
              "  {'cats': {'pos': 1.0, 'neg': 0.0}}),\n",
              " (\"two great stars and a legendary director created a magnificent throbbing love story that is memorable and moving on so many levels. henry king directed jennifer jones in her first hit song of bernadette and he again directs jennifer jones in this film and miss jones is perfect in this role and gives a edgy, beautiful performance that captures the conflict in the character and bill holden who hit home run after home run in the l950's with a series of smash hit films beginning with sunset blvd, stalag 17, born yesterday,country girl, picnic, and of course river kwai is superb in this role.hard to imagine anyone but holden in this movie i loved the ending and cry every time i see it. for anyone who has ever loved and lost, you will understand. for those who haven't, you won't.\",\n",
              "  {'cats': {'pos': 1.0, 'neg': 0.0}}),\n",
              " ('i\\'m originally from brazil... the sad thing about this movie was the exploitation that was done to that boy. they told his life story and he never got one \"centavo\" (brazilian cent) of that movie. fernando is not the first and will not be the last to go through that life style in brazil. sad... but that is the world we live in. it\\'s about making money not saving lives. question is: where is fernando today? most probably... dead. we tend to want to live in this \"disney filled fantasy bubbled life\". when someone comes up to the plate to help... along comes the higher power and says: \"what do i get from this? where\\'s my cut?\"   i wish people\\'s conscience would speak up!',\n",
              "  {'cats': {'pos': 1.0, 'neg': 0.0}}),\n",
              " ('\"witchery\" is a decent little euro trash horror yarn! david hasselhoff is pretty damn funny in this one and sadly, he\\'s one of the better actors. linda blair is downright terrible and the lady who plays hoff\\'s wife...she is hilariously bad! the plot of this film is ridiculous too. it\\'s got some holes, which you can\\'t help but notice, but it remains entertaining throughout. the gore in \"witchery\" is freaking outstanding. i loved the part where the old bag gets \"sucked\" into the trash chute and ends up in the chimney to roast! and the part where the lady \"gets taken advantage of\" by the devil was pretty damned disturbing. i\\'d say this one is a must for gorehounds. if you\\'re looking for an overproduced, well acted flick, look elsewhere. but if you like old school style italian sleaze and over the top gore, \"witchery\" belongs on your shelf. i\\'m surprised by the low rating on here! what were you people expecting, \"the exorcist?\" 7 out of 10, kids.',\n",
              "  {'cats': {'pos': 1.0, 'neg': 0.0}})]"
            ]
          },
          "metadata": {},
          "execution_count": 10
        }
      ],
      "source": [
        "train_data[:5]\n",
        "test_data[:5]"
      ]
    },
    {
      "cell_type": "code",
      "execution_count": 11,
      "metadata": {
        "colab": {
          "base_uri": "https://localhost:8080/"
        },
        "id": "XR5OuU63hR4O",
        "outputId": "0719c592-ad2f-40b4-8fbb-fe88dfbae0e7"
      },
      "outputs": [
        {
          "output_type": "execute_result",
          "data": {
            "text/plain": [
              "1"
            ]
          },
          "metadata": {},
          "execution_count": 11
        }
      ],
      "source": [
        "# Criar pipeline vazia\n",
        "nlp = spacy.blank(\"en\")\n",
        "\n",
        "# Adicionar TextCategorizer\n",
        "text_cat = nlp.add_pipe(\"textcat\", last=True)\n",
        "\n",
        "# Adicionar rótulos\n",
        "text_cat.add_label(\"pos\")\n",
        "text_cat.add_label(\"neg\")"
      ]
    },
    {
      "cell_type": "code",
      "execution_count": 12,
      "metadata": {
        "colab": {
          "base_uri": "https://localhost:8080/"
        },
        "id": "0a0Ljl2jhR4O",
        "outputId": "c55d375b-5c3b-41a2-e571-9347fec5f44d"
      },
      "outputs": [
        {
          "output_type": "stream",
          "name": "stdout",
          "text": [
            "Losses at iteration 0: {'textcat': 79.51752169057727}\n",
            "Losses at iteration 1: {'textcat': 42.942523371079005}\n",
            "Losses at iteration 2: {'textcat': 27.253294983063824}\n",
            "Losses at iteration 3: {'textcat': 19.03417518121978}\n",
            "Losses at iteration 4: {'textcat': 14.593196318318405}\n",
            "Losses at iteration 5: {'textcat': 11.029494218682036}\n",
            "Losses at iteration 6: {'textcat': 8.552255361551971}\n",
            "Losses at iteration 7: {'textcat': 8.019092129383784}\n",
            "Losses at iteration 8: {'textcat': 6.4638569393405945}\n",
            "Losses at iteration 9: {'textcat': 5.993967101085694}\n"
          ]
        }
      ],
      "source": [
        "# optimizador inicial dos pesos\n",
        "optimizer = nlp.begin_training()\n",
        "\n",
        "for i in range(10):  # número de épocas\n",
        "    random.shuffle(train_data) # shuffle dos dados de treino\n",
        "    losses = {}\n",
        "    batches = minibatch(train_data, size=compounding(4.0, 32.0, 1.5)) # tamanho dos batches, começa em 4 e aumenta até 32 (aumenta 1.5x a cada iteração)\n",
        "    for batch in batches:\n",
        "        examples = []\n",
        "        for text, annotations in batch:\n",
        "            doc = nlp.make_doc(text) # doc cria uam representação do texto que vai permitir para treino (lemmatização, POS, ...)\n",
        "            examples.append(Example.from_dict(doc, annotations)) # cria um exemplo a partir do doc e das labels\n",
        "        nlp.update(examples, sgd=optimizer, losses=losses) # o verdadeiro treino, atualiza os pesos do modelo\n",
        "    print(f\"Losses at iteration {i}: {losses}\")\n"
      ]
    },
    {
      "cell_type": "code",
      "execution_count": 15,
      "metadata": {
        "colab": {
          "base_uri": "https://localhost:8080/"
        },
        "id": "dFd3wm3hhR4O",
        "outputId": "23925487-c3cc-4a66-bd20-343d82eb6d87"
      },
      "outputs": [
        {
          "output_type": "execute_result",
          "data": {
            "text/plain": [
              "{'pos': 0.99922776222229, 'neg': 0.0007722379523329437}"
            ]
          },
          "metadata": {},
          "execution_count": 15
        }
      ],
      "source": [
        "doc = nlp(test_data[0][0]) # exemplo\n",
        "doc.cats  # Probabilidades para cada categoria (neg e pos) do texto"
      ]
    },
    {
      "cell_type": "markdown",
      "metadata": {
        "id": "vb4s2tf5hR4O"
      },
      "source": [
        "Resultados"
      ]
    },
    {
      "cell_type": "code",
      "execution_count": 16,
      "metadata": {
        "colab": {
          "base_uri": "https://localhost:8080/",
          "height": 628
        },
        "id": "ksWzjaoHhR4O",
        "outputId": "f981fa81-bd44-4a93-bd6f-5a11e9a78908"
      },
      "outputs": [
        {
          "output_type": "display_data",
          "data": {
            "text/plain": [
              "<Figure size 640x480 with 2 Axes>"
            ],
            "image/png": "[encoded data removed]"
          },
          "metadata": {}
        },
        {
          "output_type": "stream",
          "name": "stdout",
          "text": [
            "              precision    recall  f1-score   support\n",
            "\n",
            "         pos       0.90      0.87      0.88     11050\n",
            "         neg       0.87      0.90      0.89     10946\n",
            "\n",
            "    accuracy                           0.89     21996\n",
            "   macro avg       0.89      0.89      0.89     21996\n",
            "weighted avg       0.89      0.89      0.89     21996\n",
            "\n"
          ]
        }
      ],
      "source": [
        "from sklearn.metrics import confusion_matrix, classification_report\n",
        "import matplotlib.pyplot as plt\n",
        "import seaborn as sns\n",
        "\n",
        "true_labels = []\n",
        "predicted_labels = []\n",
        "\n",
        "# Iterate over each example in the test_data\n",
        "for text, annotations in test_data:\n",
        "    doc = nlp(text)  # Process the text with spaCy model\n",
        "\n",
        "    # Ensure there is a valid output in doc.cats\n",
        "    if not doc.cats:\n",
        "        print(f\"Empty prediction for text: {text}\")\n",
        "        continue # Skip if no prediction was made\n",
        "\n",
        "    # Get the predicted category (label) with the highest probability\n",
        "    predicted = max(doc.cats, key=doc.cats.get)\n",
        "    # Determine the true label from annotations\n",
        "    actual = \"pos\" if annotations[\"cats\"][\"pos\"] > annotations[\"cats\"][\"neg\"] else \"neg\"\n",
        "\n",
        "    predicted_labels.append(predicted)\n",
        "    true_labels.append(actual)\n",
        "\n",
        "# Matriz de confusão\n",
        "cm = confusion_matrix(true_labels, predicted_labels, labels=[\"pos\", \"neg\"])\n",
        "\n",
        "# Mostrar matriz com seaborn\n",
        "sns.heatmap(cm, annot=True, fmt=\"d\", xticklabels=[\"pos\", \"neg\"], yticklabels=[\"pos\", \"neg\"], cmap=\"Oranges\")\n",
        "plt.xlabel(\"Previsto\")\n",
        "plt.ylabel(\"Real\")\n",
        "plt.title(\"Matriz de Confusão\")\n",
        "plt.show()\n",
        "\n",
        "# Também podes imprimir relatório completo:\n",
        "print(classification_report(true_labels, predicted_labels, target_names=[\"pos\", \"neg\"]))\n"
      ]
    }
  ],
  "metadata": {
    "kernelspec": {
      "display_name": "base",
      "language": "python",
      "name": "python3"
    },
    "language_info": {
      "codemirror_mode": {
        "name": "ipython",
        "version": 3
      },
      "file_extension": ".py",
      "mimetype": "text/x-python",
      "name": "python",
      "nbconvert_exporter": "python",
      "pygments_lexer": "ipython3",
      "version": "3.12.4"
    },
    "colab": {
      "provenance": [],
      "collapsed_sections": [
        "Zrb4VlL8hR4K",
        "8xcGwmRxhR4N"
      ]
    }
  },
  "nbformat": 4,
  "nbformat_minor": 0
}
