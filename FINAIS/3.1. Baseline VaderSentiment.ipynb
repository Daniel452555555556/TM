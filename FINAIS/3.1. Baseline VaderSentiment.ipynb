{
  "nbformat": 4,
  "nbformat_minor": 0,
  "metadata": {
    "colab": {
      "provenance": [],
      "collapsed_sections": [
        "7_wBsKNHX4Lw",
        "Mc7ac6dB0eqJ"
      ]
    },
    "kernelspec": {
      "name": "python3",
      "display_name": "Python 3"
    },
    "language_info": {
      "name": "python"
    }
  },
  "cells": [
    {
      "cell_type": "markdown",
      "source": [
        "# 3.1 Baseline - VaderSentiment"
      ],
      "metadata": {
        "id": "5Jd1p5IflDu6"
      }
    },
    {
      "cell_type": "markdown",
      "source": [
        "#### Data Loading e Pré-processamento"
      ],
      "metadata": {
        "id": "7_wBsKNHX4Lw"
      }
    },
    {
      "cell_type": "code",
      "source": [
        "import pandas as pd\n",
        "from vaderSentiment.vaderSentiment import SentimentIntensityAnalyzer\n",
        "from sklearn.metrics import accuracy_score, confusion_matrix, recall_score, precision_score, f1_score, ConfusionMatrixDisplay"
      ],
      "metadata": {
        "collapsed": true,
        "id": "MbdhvAYjX8F7"
      },
      "execution_count": 24,
      "outputs": []
    },
    {
      "cell_type": "code",
      "source": [
        "# Ler os arquivos CSV\n",
        "df_test = pd.read_csv(\"imdb_reviews_test.csv\", quoting=0, on_bad_lines='skip')\n",
        "df_test.count()\n",
        "\n",
        "print(\"Número de linhas no conjunto de teste:\", df_test.shape[0])\n",
        "\n",
        "print(f\"O conjunto teste tem {sum(df_test['label'] == 'pos')} reviews positivas\")\n",
        "print(f\"O conjunto teste tem {sum(df_test['label'] == 'neg')} reviews negativas\")"
      ],
      "metadata": {
        "id": "27c_1efSYQb6",
        "colab": {
          "base_uri": "https://localhost:8080/"
        },
        "outputId": "35fc9663-c1e6-4b49-be0a-f90b3a08c942"
      },
      "execution_count": 25,
      "outputs": [
        {
          "output_type": "stream",
          "name": "stdout",
          "text": [
            "Número de linhas no conjunto de teste: 21996\n",
            "O conjunto teste tem 10946 reviews positivas\n",
            "O conjunto teste tem 11050 reviews negativas\n"
          ]
        }
      ]
    },
    {
      "cell_type": "code",
      "source": [
        "# Remover linhas duplicadas com base na coluna 'text' e mantendo a primeira ocorrência\n",
        "df_test = df_test.drop_duplicates(subset=['text'], keep='first')\n",
        "df_test.count()\n",
        "\n",
        "print(\"Número de linhas no conjunto de teste após remoção de duplicatas:\", df_test.shape[0])\n",
        "\n",
        "print(f\"O conjunto teste tem {sum(df_test['label'] == 'pos')} reviews positivas\")\n",
        "print(f\"O conjunto teste tem {sum(df_test['label'] == 'neg')} reviews negativas\")\n"
      ],
      "metadata": {
        "id": "n_3Rve_IZ4kr",
        "colab": {
          "base_uri": "https://localhost:8080/"
        },
        "outputId": "2e2ca7ef-b26d-461d-ca76-0c12b99fbf4b"
      },
      "execution_count": 26,
      "outputs": [
        {
          "output_type": "stream",
          "name": "stdout",
          "text": [
            "Número de linhas no conjunto de teste após remoção de duplicatas: 21814\n",
            "O conjunto teste tem 10888 reviews positivas\n",
            "O conjunto teste tem 10926 reviews negativas\n"
          ]
        }
      ]
    },
    {
      "cell_type": "code",
      "source": [
        "# Exemplo\n",
        "df_test['text'] = df_test['text'].apply(lambda x: x.lower())\n",
        "df_test['text'][:10]"
      ],
      "metadata": {
        "id": "uV0s2mAIZ_3x",
        "colab": {
          "base_uri": "https://localhost:8080/",
          "height": 0
        },
        "outputId": "2bd35683-553c-4018-ae2e-0e587787c49b"
      },
      "execution_count": 27,
      "outputs": [
        {
          "output_type": "execute_result",
          "data": {
            "text/plain": [
              "0    logan lerman & dean collins iii of jack & bobb...\n",
              "1    i have seen this film on a sunday evening and ...\n",
              "2    two great stars and a legendary director creat...\n",
              "3    i'm originally from brazil... the sad thing ab...\n",
              "4    \"witchery\" is a decent little euro trash horro...\n",
              "5    the best so bad it's good movie ever made. rud...\n",
              "6    okay, i'll say it. this movie made me laugh so...\n",
              "7    this movie almost has everything. the action i...\n",
              "8    this movie is ageless and would probably appea...\n",
              "9    great book, great movie, great soundtrack. fra...\n",
              "Name: text, dtype: object"
            ],
            "text/html": [
              "<div>\n",
              "<style scoped>\n",
              "    .dataframe tbody tr th:only-of-type {\n",
              "        vertical-align: middle;\n",
              "    }\n",
              "\n",
              "    .dataframe tbody tr th {\n",
              "        vertical-align: top;\n",
              "    }\n",
              "\n",
              "    .dataframe thead th {\n",
              "        text-align: right;\n",
              "    }\n",
              "</style>\n",
              "<table border=\"1\" class=\"dataframe\">\n",
              "  <thead>\n",
              "    <tr style=\"text-align: right;\">\n",
              "      <th></th>\n",
              "      <th>text</th>\n",
              "    </tr>\n",
              "  </thead>\n",
              "  <tbody>\n",
              "    <tr>\n",
              "      <th>0</th>\n",
              "      <td>logan lerman &amp; dean collins iii of jack &amp; bobb...</td>\n",
              "    </tr>\n",
              "    <tr>\n",
              "      <th>1</th>\n",
              "      <td>i have seen this film on a sunday evening and ...</td>\n",
              "    </tr>\n",
              "    <tr>\n",
              "      <th>2</th>\n",
              "      <td>two great stars and a legendary director creat...</td>\n",
              "    </tr>\n",
              "    <tr>\n",
              "      <th>3</th>\n",
              "      <td>i'm originally from brazil... the sad thing ab...</td>\n",
              "    </tr>\n",
              "    <tr>\n",
              "      <th>4</th>\n",
              "      <td>\"witchery\" is a decent little euro trash horro...</td>\n",
              "    </tr>\n",
              "    <tr>\n",
              "      <th>5</th>\n",
              "      <td>the best so bad it's good movie ever made. rud...</td>\n",
              "    </tr>\n",
              "    <tr>\n",
              "      <th>6</th>\n",
              "      <td>okay, i'll say it. this movie made me laugh so...</td>\n",
              "    </tr>\n",
              "    <tr>\n",
              "      <th>7</th>\n",
              "      <td>this movie almost has everything. the action i...</td>\n",
              "    </tr>\n",
              "    <tr>\n",
              "      <th>8</th>\n",
              "      <td>this movie is ageless and would probably appea...</td>\n",
              "    </tr>\n",
              "    <tr>\n",
              "      <th>9</th>\n",
              "      <td>great book, great movie, great soundtrack. fra...</td>\n",
              "    </tr>\n",
              "  </tbody>\n",
              "</table>\n",
              "</div><br><label><b>dtype:</b> object</label>"
            ]
          },
          "metadata": {},
          "execution_count": 27
        }
      ]
    },
    {
      "cell_type": "markdown",
      "source": [
        "#### Modelo"
      ],
      "metadata": {
        "id": "Mc7ac6dB0eqJ"
      }
    },
    {
      "cell_type": "code",
      "source": [
        "analyzer = SentimentIntensityAnalyzer()"
      ],
      "metadata": {
        "id": "RaKcfb8f0gir"
      },
      "execution_count": 28,
      "outputs": []
    },
    {
      "cell_type": "code",
      "source": [
        "# Função para aplicar o VADER no texto\n",
        "def get_sentiment(text):\n",
        "    sentiment = analyzer.polarity_scores(text)\n",
        "    return sentiment['compound']  # Pontuação (de -1 a 1)\n",
        "\n",
        "# Aplicar\n",
        "df_test['sentiment_score'] = df_test['text'].apply(get_sentiment)\n",
        "\n",
        "# Visualizar\n",
        "print(df_test[['text', 'label', 'sentiment_score']].head())"
      ],
      "metadata": {
        "colab": {
          "base_uri": "https://localhost:8080/"
        },
        "id": "HIo33mBj0iSz",
        "outputId": "978d0497-16ca-4057-afff-a1535cd75e8e"
      },
      "execution_count": 29,
      "outputs": [
        {
          "output_type": "stream",
          "name": "stdout",
          "text": [
            "                                                text label  sentiment_score\n",
            "0  logan lerman & dean collins iii of jack & bobb...   pos           0.9773\n",
            "1  i have seen this film on a sunday evening and ...   pos           0.9945\n",
            "2  two great stars and a legendary director creat...   pos           0.9524\n",
            "3  i'm originally from brazil... the sad thing ab...   pos          -0.7506\n",
            "4  \"witchery\" is a decent little euro trash horro...   pos           0.3759\n"
          ]
        }
      ]
    },
    {
      "cell_type": "code",
      "source": [
        "# Função para classificar\n",
        "def classify_sentiment(compound_score):\n",
        "    if compound_score >= 0:\n",
        "        return \"Positivo\"\n",
        "    elif compound_score < 0:\n",
        "        return \"Negativo\"\n",
        "\n",
        "# Aplicar\n",
        "df_test['sentiment_class'] = df_test['sentiment_score'].apply(classify_sentiment)\n",
        "\n",
        "# Visualizar\n",
        "print(df_test[['text', 'label', 'sentiment_score', 'sentiment_class']].head())"
      ],
      "metadata": {
        "colab": {
          "base_uri": "https://localhost:8080/"
        },
        "id": "mpLPcaa71fB5",
        "outputId": "919f7282-772c-4a71-b04f-e57be99443a1"
      },
      "execution_count": 30,
      "outputs": [
        {
          "output_type": "stream",
          "name": "stdout",
          "text": [
            "                                                text label  sentiment_score  \\\n",
            "0  logan lerman & dean collins iii of jack & bobb...   pos           0.9773   \n",
            "1  i have seen this film on a sunday evening and ...   pos           0.9945   \n",
            "2  two great stars and a legendary director creat...   pos           0.9524   \n",
            "3  i'm originally from brazil... the sad thing ab...   pos          -0.7506   \n",
            "4  \"witchery\" is a decent little euro trash horro...   pos           0.3759   \n",
            "\n",
            "  sentiment_class  \n",
            "0        Positivo  \n",
            "1        Positivo  \n",
            "2        Positivo  \n",
            "3        Negativo  \n",
            "4        Positivo  \n"
          ]
        }
      ]
    },
    {
      "cell_type": "code",
      "source": [
        "# Mapeamento da classe de sentimento\n",
        "df_test['sentiment_class_mapped'] = df_test['sentiment_class'].map({'Positivo': 'pos', 'Negativo': 'neg'})\n",
        "\n",
        "# 1. Calcular accuracy, Precision, Recall e F1 Score\n",
        "accuracy = accuracy_score(df_test['label'], df_test['sentiment_class_mapped'])\n",
        "print(f\"Acurácia do modelo: {accuracy * 100:.2f}%\")\n",
        "precision = precision_score(df_test['label'], df_test['sentiment_class_mapped'], pos_label='pos')\n",
        "print(f\"Precisão: {precision:.4f}\")\n",
        "recall = recall_score(df_test['label'], df_test['sentiment_class_mapped'], pos_label='pos')\n",
        "print(f\"Recall: {recall:.4f}\")\n",
        "f1 = f1_score(df_test['label'], df_test['sentiment_class_mapped'], pos_label='pos')\n",
        "print(f\"F1 Score: {f1:.4f}\")\n",
        "\n",
        "# 2. Calcular matriz de confusão\n",
        "conf_matrix = confusion_matrix(df_test['label'], df_test['sentiment_class_mapped'], labels=['pos', 'neg'])\n",
        "\n",
        "# 3. Visualizar a matriz de confusão\n",
        "disp = ConfusionMatrixDisplay(confusion_matrix=conf_matrix, display_labels=['Positivo', 'Negativo'])\n",
        "disp.plot(cmap='Reds', values_format='d')"
      ],
      "metadata": {
        "colab": {
          "base_uri": "https://localhost:8080/",
          "height": 536
        },
        "id": "JqKtenov5HMM",
        "outputId": "a199eeb6-d744-498b-c751-2c9a910932eb"
      },
      "execution_count": 34,
      "outputs": [
        {
          "output_type": "stream",
          "name": "stdout",
          "text": [
            "Acurácia do modelo: 70.29%\n",
            "Precisão: 0.6511\n",
            "Recall: 0.8720\n",
            "F1 Score: 0.7455\n"
          ]
        },
        {
          "output_type": "execute_result",
          "data": {
            "text/plain": [
              "<sklearn.metrics._plot.confusion_matrix.ConfusionMatrixDisplay at 0x7a1bde8b7310>"
            ]
          },
          "metadata": {},
          "execution_count": 34
        },
        {
          "output_type": "display_data",
          "data": {
            "text/plain": [
              "<Figure size 640x480 with 2 Axes>"
            ],
            "image/png": "[encoded data removed]"
          },
          "metadata": {}
        }
      ]
    }
  ]
}
